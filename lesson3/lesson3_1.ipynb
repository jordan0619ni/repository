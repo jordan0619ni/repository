{
 "cells": [
  {
   "cell_type": "code",
   "execution_count": null,
   "id": "4a4fe978",
   "metadata": {},
   "outputs": [],
   "source": [
    "class Person:\n",
    "    def __init__(self,name):   #自訂的初始化\n",
    "        self.name = name   #建立attribute\n",
    "\n",
    "    def greeting(self):    #自訂實體的方法\n",
    "        print(f\"您好:{self.name}\")      "
   ]
  },
  {
   "cell_type": "code",
   "execution_count": 43,
   "id": "e78c7ff0",
   "metadata": {},
   "outputs": [
    {
     "name": "stdout",
     "output_type": "stream",
     "text": [
      "您好:robert\n",
      "您好:jenny\n"
     ]
    }
   ],
   "source": [
    "p1:Person = Person(\"robert\")\n",
    "p1.greeting()\n",
    "\n",
    "p2:Person =Person(name=\"jenny\")\n",
    "p2.greeting()"
   ]
  },
  {
   "cell_type": "code",
   "execution_count": 44,
   "id": "9d2d5e4c",
   "metadata": {},
   "outputs": [],
   "source": [
    "class Student(Person):\n",
    "    def greeting(self):    #overwrite(覆寫)父類別的實體方法\n",
    "        super().greeting()\n",
    "        print(f\"您好:我是學生{self.name}\")"
   ]
  },
  {
   "cell_type": "code",
   "execution_count": 45,
   "id": "78f2aae9",
   "metadata": {},
   "outputs": [
    {
     "name": "stdout",
     "output_type": "stream",
     "text": [
      "Kevin\n",
      "您好:Kevin\n",
      "您好:我是學生Kevin\n"
     ]
    }
   ],
   "source": [
    "s1 = Student(\"Kevin\")\n",
    "print(s1.name)\n",
    "s1.greeting()"
   ]
  },
  {
   "cell_type": "code",
   "execution_count": null,
   "id": "ac66f301",
   "metadata": {},
   "outputs": [],
   "source": []
  }
 ],
 "metadata": {
  "kernelspec": {
   "display_name": "repository",
   "language": "python",
   "name": "python3"
  },
  "language_info": {
   "codemirror_mode": {
    "name": "ipython",
    "version": 3
   },
   "file_extension": ".py",
   "mimetype": "text/x-python",
   "name": "python",
   "nbconvert_exporter": "python",
   "pygments_lexer": "ipython3",
   "version": "3.10.18"
  }
 },
 "nbformat": 4,
 "nbformat_minor": 5
}
